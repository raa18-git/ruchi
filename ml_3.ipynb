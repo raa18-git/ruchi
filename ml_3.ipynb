{
  "nbformat": 4,
  "nbformat_minor": 0,
  "metadata": {
    "colab": {
      "provenance": [],
      "authorship_tag": "ABX9TyNGxnBTu1NO24POokv2vymO",
      "include_colab_link": true
    },
    "kernelspec": {
      "name": "python3",
      "display_name": "Python 3"
    },
    "language_info": {
      "name": "python"
    }
  },
  "cells": [
    {
      "cell_type": "markdown",
      "metadata": {
        "id": "view-in-github",
        "colab_type": "text"
      },
      "source": [
        "<a href=\"https://colab.research.google.com/github/raa18-git/ruchi/blob/main/ml_3.ipynb\" target=\"_parent\"><img src=\"https://colab.research.google.com/assets/colab-badge.svg\" alt=\"Open In Colab\"/></a>"
      ]
    },
    {
      "cell_type": "code",
      "execution_count": null,
      "metadata": {
        "colab": {
          "base_uri": "https://localhost:8080/",
          "height": 356
        },
        "id": "_nsiEaqj1XWe",
        "outputId": "ff3746cb-3b95-492c-ca9c-6905159668ac"
      },
      "outputs": [
        {
          "output_type": "error",
          "ename": "ValueError",
          "evalue": "matmul: Input operand 1 does not have enough dimensions (has 0, gufunc core with signature (n?,k),(k,m?)->(n?,m?) requires 1)",
          "traceback": [
            "\u001b[0;31m---------------------------------------------------------------------------\u001b[0m",
            "\u001b[0;31mValueError\u001b[0m                                Traceback (most recent call last)",
            "\u001b[0;32m<ipython-input-1-4188e1686a52>\u001b[0m in \u001b[0;36m<cell line: 62>\u001b[0;34m()\u001b[0m\n\u001b[1;32m     69\u001b[0m \u001b[0;34m\u001b[0m\u001b[0m\n\u001b[1;32m     70\u001b[0m     \u001b[0;31m# Optimize tensions\u001b[0m\u001b[0;34m\u001b[0m\u001b[0;34m\u001b[0m\u001b[0m\n\u001b[0;32m---> 71\u001b[0;31m     \u001b[0moptimal_tensions\u001b[0m \u001b[0;34m=\u001b[0m \u001b[0moptimize_cable_tensions\u001b[0m\u001b[0;34m(\u001b[0m\u001b[0mpositions\u001b[0m\u001b[0;34m,\u001b[0m \u001b[0mWe\u001b[0m\u001b[0;34m,\u001b[0m \u001b[0mWg\u001b[0m\u001b[0;34m,\u001b[0m \u001b[0mM\u001b[0m\u001b[0;34m,\u001b[0m \u001b[0mX_dot_dot\u001b[0m\u001b[0;34m)\u001b[0m\u001b[0;34m\u001b[0m\u001b[0;34m\u001b[0m\u001b[0m\n\u001b[0m\u001b[1;32m     72\u001b[0m \u001b[0;34m\u001b[0m\u001b[0m\n\u001b[1;32m     73\u001b[0m     \u001b[0;31m# Output the results\u001b[0m\u001b[0;34m\u001b[0m\u001b[0;34m\u001b[0m\u001b[0m\n",
            "\u001b[0;32m<ipython-input-1-4188e1686a52>\u001b[0m in \u001b[0;36moptimize_cable_tensions\u001b[0;34m(positions, We, Wg, M, X_dot_dot)\u001b[0m\n\u001b[1;32m     43\u001b[0m         \u001b[0;31m# Step 5: Compute the initial feasible solution Tc\u001b[0m\u001b[0;34m\u001b[0m\u001b[0;34m\u001b[0m\u001b[0m\n\u001b[1;32m     44\u001b[0m         \u001b[0mlambda_c\u001b[0m \u001b[0;34m=\u001b[0m \u001b[0mfeasible_region\u001b[0m\u001b[0;34m[\u001b[0m\u001b[0;36m0\u001b[0m\u001b[0;34m]\u001b[0m  \u001b[0;31m# Choose an initial lambda from the feasible region\u001b[0m\u001b[0;34m\u001b[0m\u001b[0;34m\u001b[0m\u001b[0m\n\u001b[0;32m---> 45\u001b[0;31m         \u001b[0mT_c\u001b[0m \u001b[0;34m=\u001b[0m \u001b[0mcompute_tension\u001b[0m\u001b[0;34m(\u001b[0m\u001b[0mJ\u001b[0m\u001b[0;34m,\u001b[0m \u001b[0mM\u001b[0m\u001b[0;34m,\u001b[0m \u001b[0mX_dot_dot\u001b[0m\u001b[0;34m,\u001b[0m \u001b[0mWe\u001b[0m\u001b[0;34m,\u001b[0m \u001b[0mWg\u001b[0m\u001b[0;34m,\u001b[0m \u001b[0mlambda_c\u001b[0m\u001b[0;34m,\u001b[0m \u001b[0mH_J\u001b[0m\u001b[0;34m)\u001b[0m\u001b[0;34m\u001b[0m\u001b[0;34m\u001b[0m\u001b[0m\n\u001b[0m\u001b[1;32m     46\u001b[0m \u001b[0;34m\u001b[0m\u001b[0m\n\u001b[1;32m     47\u001b[0m         \u001b[0;31m# Step 6: Check if feasible region is small\u001b[0m\u001b[0;34m\u001b[0m\u001b[0;34m\u001b[0m\u001b[0m\n",
            "\u001b[0;32m<ipython-input-1-4188e1686a52>\u001b[0m in \u001b[0;36mcompute_tension\u001b[0;34m(J, M, X_dot_dot, We, Wg, lambda_val, H_J)\u001b[0m\n\u001b[1;32m     15\u001b[0m \u001b[0;31m# Function to calculate cable tensions\u001b[0m\u001b[0;34m\u001b[0m\u001b[0;34m\u001b[0m\u001b[0m\n\u001b[1;32m     16\u001b[0m \u001b[0;32mdef\u001b[0m \u001b[0mcompute_tension\u001b[0m\u001b[0;34m(\u001b[0m\u001b[0mJ\u001b[0m\u001b[0;34m,\u001b[0m \u001b[0mM\u001b[0m\u001b[0;34m,\u001b[0m \u001b[0mX_dot_dot\u001b[0m\u001b[0;34m,\u001b[0m \u001b[0mWe\u001b[0m\u001b[0;34m,\u001b[0m \u001b[0mWg\u001b[0m\u001b[0;34m,\u001b[0m \u001b[0mlambda_val\u001b[0m\u001b[0;34m,\u001b[0m \u001b[0mH_J\u001b[0m\u001b[0;34m)\u001b[0m\u001b[0;34m:\u001b[0m\u001b[0;34m\u001b[0m\u001b[0;34m\u001b[0m\u001b[0m\n\u001b[0;32m---> 17\u001b[0;31m     \u001b[0;32mreturn\u001b[0m \u001b[0mpinv\u001b[0m\u001b[0;34m(\u001b[0m\u001b[0mJ\u001b[0m\u001b[0;34m)\u001b[0m \u001b[0;34m@\u001b[0m \u001b[0;34m(\u001b[0m\u001b[0mM\u001b[0m \u001b[0;34m@\u001b[0m \u001b[0mX_dot_dot\u001b[0m \u001b[0;34m-\u001b[0m \u001b[0mWe\u001b[0m \u001b[0;34m-\u001b[0m \u001b[0mWg\u001b[0m\u001b[0;34m)\u001b[0m \u001b[0;34m+\u001b[0m \u001b[0mH_J\u001b[0m \u001b[0;34m@\u001b[0m \u001b[0mlambda_val\u001b[0m\u001b[0;34m\u001b[0m\u001b[0;34m\u001b[0m\u001b[0m\n\u001b[0m\u001b[1;32m     18\u001b[0m \u001b[0;34m\u001b[0m\u001b[0m\n\u001b[1;32m     19\u001b[0m \u001b[0;31m# Feasible region solver (solve one-dimensional region for lambda)\u001b[0m\u001b[0;34m\u001b[0m\u001b[0;34m\u001b[0m\u001b[0m\n",
            "\u001b[0;31mValueError\u001b[0m: matmul: Input operand 1 does not have enough dimensions (has 0, gufunc core with signature (n?,k),(k,m?)->(n?,m?) requires 1)"
          ]
        }
      ],
      "source": [
        "import numpy as np\n",
        "from scipy.linalg import pinv, null_space\n",
        "from scipy.optimize import minimize\n",
        "\n",
        "# Function to calculate the structure matrix J(X)\n",
        "def structure_matrix(X):\n",
        "    # Placeholder for structure matrix calculation\n",
        "    # You'll need to replace this with the actual computation of J(X) for your CRPM\n",
        "    return np.array([[1, 0], [0, 1]])  # Example for a 2x2 matrix\n",
        "\n",
        "# Function to compute the null space matrix H_J(X)\n",
        "def null_space_matrix(J):\n",
        "    return null_space(J)\n",
        "\n",
        "# Function to calculate cable tensions\n",
        "def compute_tension(J, M, X_dot_dot, We, Wg, lambda_val, H_J):\n",
        "    return pinv(J) @ (M @ X_dot_dot - We - Wg) + H_J @ lambda_val\n",
        "\n",
        "# Feasible region solver (solve one-dimensional region for lambda)\n",
        "def solve_feasible_region():\n",
        "    # Placeholder for actual solving of the feasible region\n",
        "    # This could be a range or a specific value, depending on the system\n",
        "    return np.array([0, 1])  # Example feasible region\n",
        "\n",
        "# Objective function to minimize (based on polynomial equation)\n",
        "def objective_function(lambda_val, J, M, X_dot_dot, We, Wg, H_J):\n",
        "    T = compute_tension(J, M, X_dot_dot, We, Wg, lambda_val, H_J)\n",
        "    return np.linalg.norm(T)  # Minimize the norm of T\n",
        "\n",
        "# Main algorithm\n",
        "def optimize_cable_tensions(positions, We, Wg, M, X_dot_dot):\n",
        "    N = len(positions)  # Number of positions\n",
        "    optimal_tensions = []\n",
        "\n",
        "    for j in range(N):\n",
        "        X_j = positions[j]\n",
        "        J = structure_matrix(X_j)\n",
        "        H_J = null_space_matrix(J)\n",
        "\n",
        "        # Step 4: Solve for feasible region\n",
        "        feasible_region = solve_feasible_region()\n",
        "\n",
        "        # Step 5: Compute the initial feasible solution Tc\n",
        "        lambda_c = feasible_region[0]  # Choose an initial lambda from the feasible region\n",
        "        T_c = compute_tension(J, M, X_dot_dot, We, Wg, lambda_c, H_J)\n",
        "\n",
        "        # Step 6: Check if feasible region is small\n",
        "        norm_distance = np.linalg.norm(feasible_region[1] - feasible_region[0])\n",
        "        if norm_distance < 1e-3:  # Tolerance for small region\n",
        "            T_opt = T_c  # Optimal tension\n",
        "        else:\n",
        "            # Step 7: Minimize the objective function using convex programming\n",
        "            result = minimize(objective_function, lambda_c, args=(J, M, X_dot_dot, We, Wg, H_J))\n",
        "            lambda_opt = result.x\n",
        "            T_opt = compute_tension(J, M, X_dot_dot, We, Wg, lambda_opt, H_J)\n",
        "\n",
        "        optimal_tensions.append(T_opt)\n",
        "\n",
        "    return optimal_tensions\n",
        "\n",
        "# Example usage\n",
        "if __name__ == \"__main__\":\n",
        "    # Define parameters\n",
        "    positions = [np.array([0, 0]), np.array([1, 1]), np.array([2, 2])]  # Example positions\n",
        "    We = np.array([0, -9.81])  # External force (gravity)\n",
        "    Wg = np.array([0, 0])  # Assume no additional weight\n",
        "    M = np.array([[1, 0], [0, 1]])  # Mass matrix (identity for simplicity)\n",
        "    X_dot_dot = np.array([0, 0])  # No acceleration\n",
        "\n",
        "    # Optimize tensions\n",
        "    optimal_tensions = optimize_cable_tensions(positions, We, Wg, M, X_dot_dot)\n",
        "\n",
        "    # Output the results\n",
        "    for i, T_opt in enumerate(optimal_tensions):\n",
        "        print(f\"Optimal tensions at position {i+1}: {T_opt}\")\n"
      ]
    },
    {
      "cell_type": "code",
      "source": [
        "import numpy as np\n",
        "from scipy.linalg import pinv, null_space\n",
        "from scipy.optimize import minimize\n",
        "\n",
        "# Function to calculate the structure matrix J(X)\n",
        "def structure_matrix(X):\n",
        "    # Placeholder for structure matrix calculation\n",
        "    # You'll need to replace this with the actual computation of J(X) for your CRPM\n",
        "    return np.array([[1, 0], [0, 1]])  # Example for a 2x2 matrix\n",
        "\n",
        "# Function to compute the null space matrix H_J(X)\n",
        "def null_space_matrix(J):\n",
        "    return null_space(J)\n",
        "\n",
        "# Function to calculate cable tensions\n",
        "def compute_tension(J, M, X_dot_dot, We, Wg, lambda_val, H_J):\n",
        "    lambda_val = np.atleast_1d(lambda_val)  # Ensure lambda_val is treated as a 1D array\n",
        "    return pinv(J) @ (M @ X_dot_dot - We - Wg) + H_J @ lambda_val\n",
        "\n",
        "# Feasible region solver (solve one-dimensional region for lambda)\n",
        "def solve_feasible_region():\n",
        "    # Placeholder for actual solving of the feasible region\n",
        "    # This could be a range or a specific value, depending on the system\n",
        "    return np.array([0, 1])  # Example feasible region\n",
        "\n",
        "# Objective function to minimize (based on polynomial equation)\n",
        "def objective_function(lambda_val, J, M, X_dot_dot, We, Wg, H_J):\n",
        "    T = compute_tension(J, M, X_dot_dot, We, Wg, lambda_val, H_J)\n",
        "    return np.linalg.norm(T)  # Minimize the norm of T\n",
        "\n",
        "# Main algorithm\n",
        "def optimize_cable_tensions(positions, We, Wg, M, X_dot_dot):\n",
        "    N = len(positions)  # Number of positions\n",
        "    optimal_tensions = []\n",
        "\n",
        "    for j in range(N):\n",
        "        X_j = positions[j]\n",
        "        J = structure_matrix(X_j)\n",
        "        H_J = null_space_matrix(J)\n",
        "\n",
        "        # Step 4: Solve for feasible region\n",
        "        feasible_region = solve_feasible_region()\n",
        "\n",
        "        # Step 5: Compute the initial feasible solution Tc\n",
        "        lambda_c = feasible_region[0]  # Choose an initial lambda from the feasible region\n",
        "        T_c = compute_tension(J, M, X_dot_dot, We, Wg, lambda_c, H_J)\n",
        "\n",
        "        # Step 6: Check if feasible region is small\n",
        "        norm_distance = np.linalg.norm(feasible_region[1] - feasible_region[0])\n",
        "        if norm_distance < 1e-3:  # Tolerance for small region\n",
        "            T_opt = T_c  # Optimal tension\n",
        "        else:\n",
        "            # Step 7: Minimize the objective function using convex programming\n",
        "            result = minimize(objective_function, lambda_c, args=(J, M, X_dot_dot, We, Wg, H_J))\n",
        "            lambda_opt = result.x\n",
        "            T_opt = compute_tension(J, M, X_dot_dot, We, Wg, lambda_opt, H_J)\n",
        "\n",
        "        optimal_tensions.append(T_opt)\n",
        "\n",
        "    return optimal_tensions\n",
        "\n",
        "# Example usage\n",
        "if __name__ == \"__main__\":\n",
        "    # Define parameters\n",
        "    positions = [np.array([0, 0]), np.array([1, 1]), np.array([2, 2])]  # Example positions\n",
        "    We = np.array([0, -9.81])  # External force (gravity)\n",
        "    Wg = np.array([0, 0])  # Assume no additional weight\n",
        "    M = np.array([[1, 0], [0, 1]])  # Mass matrix (identity for simplicity)\n",
        "    X_dot_dot = np.array([0, 0])  # No acceleration\n",
        "\n",
        "    # Optimize tensions\n",
        "    optimal_tensions = optimize_cable_tensions(positions, We, Wg, M, X_dot_dot)\n",
        "\n",
        "    # Output the results\n",
        "    for i, T_opt in enumerate(optimal_tensions):\n",
        "        print(f\"Optimal tensions at position {i+1}: {T_opt}\")\n"
      ],
      "metadata": {
        "colab": {
          "base_uri": "https://localhost:8080/",
          "height": 356
        },
        "id": "YLYAwb64Pu9G",
        "outputId": "1026159d-fa8e-4293-8028-979ad9cfd96c"
      },
      "execution_count": null,
      "outputs": [
        {
          "output_type": "error",
          "ename": "ValueError",
          "evalue": "matmul: Input operand 1 has a mismatch in its core dimension 0, with gufunc signature (n?,k),(k,m?)->(n?,m?) (size 1 is different from 0)",
          "traceback": [
            "\u001b[0;31m---------------------------------------------------------------------------\u001b[0m",
            "\u001b[0;31mValueError\u001b[0m                                Traceback (most recent call last)",
            "\u001b[0;32m<ipython-input-1-6faa0ff12f79>\u001b[0m in \u001b[0;36m<cell line: 63>\u001b[0;34m()\u001b[0m\n\u001b[1;32m     70\u001b[0m \u001b[0;34m\u001b[0m\u001b[0m\n\u001b[1;32m     71\u001b[0m     \u001b[0;31m# Optimize tensions\u001b[0m\u001b[0;34m\u001b[0m\u001b[0;34m\u001b[0m\u001b[0m\n\u001b[0;32m---> 72\u001b[0;31m     \u001b[0moptimal_tensions\u001b[0m \u001b[0;34m=\u001b[0m \u001b[0moptimize_cable_tensions\u001b[0m\u001b[0;34m(\u001b[0m\u001b[0mpositions\u001b[0m\u001b[0;34m,\u001b[0m \u001b[0mWe\u001b[0m\u001b[0;34m,\u001b[0m \u001b[0mWg\u001b[0m\u001b[0;34m,\u001b[0m \u001b[0mM\u001b[0m\u001b[0;34m,\u001b[0m \u001b[0mX_dot_dot\u001b[0m\u001b[0;34m)\u001b[0m\u001b[0;34m\u001b[0m\u001b[0;34m\u001b[0m\u001b[0m\n\u001b[0m\u001b[1;32m     73\u001b[0m \u001b[0;34m\u001b[0m\u001b[0m\n\u001b[1;32m     74\u001b[0m     \u001b[0;31m# Output the results\u001b[0m\u001b[0;34m\u001b[0m\u001b[0;34m\u001b[0m\u001b[0m\n",
            "\u001b[0;32m<ipython-input-1-6faa0ff12f79>\u001b[0m in \u001b[0;36moptimize_cable_tensions\u001b[0;34m(positions, We, Wg, M, X_dot_dot)\u001b[0m\n\u001b[1;32m     44\u001b[0m         \u001b[0;31m# Step 5: Compute the initial feasible solution Tc\u001b[0m\u001b[0;34m\u001b[0m\u001b[0;34m\u001b[0m\u001b[0m\n\u001b[1;32m     45\u001b[0m         \u001b[0mlambda_c\u001b[0m \u001b[0;34m=\u001b[0m \u001b[0mfeasible_region\u001b[0m\u001b[0;34m[\u001b[0m\u001b[0;36m0\u001b[0m\u001b[0;34m]\u001b[0m  \u001b[0;31m# Choose an initial lambda from the feasible region\u001b[0m\u001b[0;34m\u001b[0m\u001b[0;34m\u001b[0m\u001b[0m\n\u001b[0;32m---> 46\u001b[0;31m         \u001b[0mT_c\u001b[0m \u001b[0;34m=\u001b[0m \u001b[0mcompute_tension\u001b[0m\u001b[0;34m(\u001b[0m\u001b[0mJ\u001b[0m\u001b[0;34m,\u001b[0m \u001b[0mM\u001b[0m\u001b[0;34m,\u001b[0m \u001b[0mX_dot_dot\u001b[0m\u001b[0;34m,\u001b[0m \u001b[0mWe\u001b[0m\u001b[0;34m,\u001b[0m \u001b[0mWg\u001b[0m\u001b[0;34m,\u001b[0m \u001b[0mlambda_c\u001b[0m\u001b[0;34m,\u001b[0m \u001b[0mH_J\u001b[0m\u001b[0;34m)\u001b[0m\u001b[0;34m\u001b[0m\u001b[0;34m\u001b[0m\u001b[0m\n\u001b[0m\u001b[1;32m     47\u001b[0m \u001b[0;34m\u001b[0m\u001b[0m\n\u001b[1;32m     48\u001b[0m         \u001b[0;31m# Step 6: Check if feasible region is small\u001b[0m\u001b[0;34m\u001b[0m\u001b[0;34m\u001b[0m\u001b[0m\n",
            "\u001b[0;32m<ipython-input-1-6faa0ff12f79>\u001b[0m in \u001b[0;36mcompute_tension\u001b[0;34m(J, M, X_dot_dot, We, Wg, lambda_val, H_J)\u001b[0m\n\u001b[1;32m     16\u001b[0m \u001b[0;32mdef\u001b[0m \u001b[0mcompute_tension\u001b[0m\u001b[0;34m(\u001b[0m\u001b[0mJ\u001b[0m\u001b[0;34m,\u001b[0m \u001b[0mM\u001b[0m\u001b[0;34m,\u001b[0m \u001b[0mX_dot_dot\u001b[0m\u001b[0;34m,\u001b[0m \u001b[0mWe\u001b[0m\u001b[0;34m,\u001b[0m \u001b[0mWg\u001b[0m\u001b[0;34m,\u001b[0m \u001b[0mlambda_val\u001b[0m\u001b[0;34m,\u001b[0m \u001b[0mH_J\u001b[0m\u001b[0;34m)\u001b[0m\u001b[0;34m:\u001b[0m\u001b[0;34m\u001b[0m\u001b[0;34m\u001b[0m\u001b[0m\n\u001b[1;32m     17\u001b[0m     \u001b[0mlambda_val\u001b[0m \u001b[0;34m=\u001b[0m \u001b[0mnp\u001b[0m\u001b[0;34m.\u001b[0m\u001b[0matleast_1d\u001b[0m\u001b[0;34m(\u001b[0m\u001b[0mlambda_val\u001b[0m\u001b[0;34m)\u001b[0m  \u001b[0;31m# Ensure lambda_val is treated as a 1D array\u001b[0m\u001b[0;34m\u001b[0m\u001b[0;34m\u001b[0m\u001b[0m\n\u001b[0;32m---> 18\u001b[0;31m     \u001b[0;32mreturn\u001b[0m \u001b[0mpinv\u001b[0m\u001b[0;34m(\u001b[0m\u001b[0mJ\u001b[0m\u001b[0;34m)\u001b[0m \u001b[0;34m@\u001b[0m \u001b[0;34m(\u001b[0m\u001b[0mM\u001b[0m \u001b[0;34m@\u001b[0m \u001b[0mX_dot_dot\u001b[0m \u001b[0;34m-\u001b[0m \u001b[0mWe\u001b[0m \u001b[0;34m-\u001b[0m \u001b[0mWg\u001b[0m\u001b[0;34m)\u001b[0m \u001b[0;34m+\u001b[0m \u001b[0mH_J\u001b[0m \u001b[0;34m@\u001b[0m \u001b[0mlambda_val\u001b[0m\u001b[0;34m\u001b[0m\u001b[0;34m\u001b[0m\u001b[0m\n\u001b[0m\u001b[1;32m     19\u001b[0m \u001b[0;34m\u001b[0m\u001b[0m\n\u001b[1;32m     20\u001b[0m \u001b[0;31m# Feasible region solver (solve one-dimensional region for lambda)\u001b[0m\u001b[0;34m\u001b[0m\u001b[0;34m\u001b[0m\u001b[0m\n",
            "\u001b[0;31mValueError\u001b[0m: matmul: Input operand 1 has a mismatch in its core dimension 0, with gufunc signature (n?,k),(k,m?)->(n?,m?) (size 1 is different from 0)"
          ]
        }
      ]
    }
  ]
}