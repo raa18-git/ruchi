{
  "nbformat": 4,
  "nbformat_minor": 0,
  "metadata": {
    "colab": {
      "provenance": [],
      "authorship_tag": "ABX9TyOya9Raz6w9IdWbu0DbSHqG",
      "include_colab_link": true
    },
    "kernelspec": {
      "name": "python3",
      "display_name": "Python 3"
    },
    "language_info": {
      "name": "python"
    }
  },
  "cells": [
    {
      "cell_type": "markdown",
      "metadata": {
        "id": "view-in-github",
        "colab_type": "text"
      },
      "source": [
        "<a href=\"https://colab.research.google.com/github/raa18-git/ruchi/blob/main/ME644_ML_QUIZ2.ipynb\" target=\"_parent\"><img src=\"https://colab.research.google.com/assets/colab-badge.svg\" alt=\"Open In Colab\"/></a>"
      ]
    },
    {
      "cell_type": "code",
      "execution_count": 1,
      "metadata": {
        "id": "W27aoxtqi1o3"
      },
      "outputs": [],
      "source": [
        "import numpy as np\n",
        "import matplotlib.pyplot as plt\n",
        "X1 = np.array([15.5, 23.75, 8, 17, 5.5, 19, 24, 2.5, 7.5, 11])\n",
        "X2 = np.array([40, 23.25, 17, 21, 10, 12, 20, 12, 15, 26])\n",
        "y = [5,5,2,5,2,2,5,2,2,5]\n",
        "x1 = (X1-np.min(X1))/(np.max(X1)-np.min(X1))\n",
        "x2 = (X2-np.min(X2))/(np.max(X2)-np.min(X2))\n",
        "x0 = np.ones(10)\n",
        "x = [x0, x1, x2]"
      ]
    },
    {
      "cell_type": "code",
      "source": [
        "def activation(w, x):\n",
        "    if np.dot(w,x) > 1:\n",
        "        return(2)\n",
        "    else:\n",
        "        return(5)"
      ],
      "metadata": {
        "id": "onAbQ-gSi3Br"
      },
      "execution_count": 2,
      "outputs": []
    },
    {
      "cell_type": "code",
      "source": [
        "r = 0.1\n",
        "w0 = 0.5\n",
        "w1 = 0.5\n",
        "w2 = 0.5\n",
        "w = np.array([w0, w1, w2])\n",
        "for i in range(1000):\n",
        "    y_ = activation(w, )\n",
        "    l = y"
      ],
      "metadata": {
        "colab": {
          "base_uri": "https://localhost:8080/",
          "height": 193
        },
        "id": "VyWSoKcsi7wl",
        "outputId": "7b7b9713-8c7f-4473-f6aa-f2933598851d"
      },
      "execution_count": 3,
      "outputs": [
        {
          "output_type": "error",
          "ename": "TypeError",
          "evalue": "activation() missing 1 required positional argument: 'x'",
          "traceback": [
            "\u001b[0;31m---------------------------------------------------------------------------\u001b[0m",
            "\u001b[0;31mTypeError\u001b[0m                                 Traceback (most recent call last)",
            "\u001b[0;32m<ipython-input-3-e641c5c83d0d>\u001b[0m in \u001b[0;36m<cell line: 6>\u001b[0;34m()\u001b[0m\n\u001b[1;32m      5\u001b[0m \u001b[0mw\u001b[0m \u001b[0;34m=\u001b[0m \u001b[0mnp\u001b[0m\u001b[0;34m.\u001b[0m\u001b[0marray\u001b[0m\u001b[0;34m(\u001b[0m\u001b[0;34m[\u001b[0m\u001b[0mw0\u001b[0m\u001b[0;34m,\u001b[0m \u001b[0mw1\u001b[0m\u001b[0;34m,\u001b[0m \u001b[0mw2\u001b[0m\u001b[0;34m]\u001b[0m\u001b[0;34m)\u001b[0m\u001b[0;34m\u001b[0m\u001b[0;34m\u001b[0m\u001b[0m\n\u001b[1;32m      6\u001b[0m \u001b[0;32mfor\u001b[0m \u001b[0mi\u001b[0m \u001b[0;32min\u001b[0m \u001b[0mrange\u001b[0m\u001b[0;34m(\u001b[0m\u001b[0;36m1000\u001b[0m\u001b[0;34m)\u001b[0m\u001b[0;34m:\u001b[0m\u001b[0;34m\u001b[0m\u001b[0;34m\u001b[0m\u001b[0m\n\u001b[0;32m----> 7\u001b[0;31m     \u001b[0my_\u001b[0m \u001b[0;34m=\u001b[0m \u001b[0mactivation\u001b[0m\u001b[0;34m(\u001b[0m\u001b[0mw\u001b[0m\u001b[0;34m,\u001b[0m \u001b[0;34m)\u001b[0m\u001b[0;34m\u001b[0m\u001b[0;34m\u001b[0m\u001b[0m\n\u001b[0m\u001b[1;32m      8\u001b[0m     \u001b[0ml\u001b[0m \u001b[0;34m=\u001b[0m \u001b[0my\u001b[0m\u001b[0;34m\u001b[0m\u001b[0;34m\u001b[0m\u001b[0m\n",
            "\u001b[0;31mTypeError\u001b[0m: activation() missing 1 required positional argument: 'x'"
          ]
        }
      ]
    },
    {
      "cell_type": "code",
      "source": [
        "#plt.figure(figsize=(10, 8))\n",
        "for i in range(10):\n",
        "    if y[i]==2:\n",
        "        plt.scatter(X1[i], X2[i], c='red')\n",
        "    else:\n",
        "        plt.scatter(X1[i], X2[i], c='green')\n",
        "# Generating x values\n",
        "x = range(0, 25)\n",
        "\n",
        "# Calculating y values for y = x + 2\n",
        "y = [val*(-7/8) + 32 for val in x]\n",
        "\n",
        "# Plotting the line\n",
        "plt.plot(x, y)\n",
        "plt.xlabel('X1')\n",
        "plt.ylabel('X2')\n",
        "plt.show()"
      ],
      "metadata": {
        "colab": {
          "base_uri": "https://localhost:8080/",
          "height": 449
        },
        "id": "7f4SeLSQjBef",
        "outputId": "e4e6975d-cd79-4106-8bf0-a8f087586894"
      },
      "execution_count": 4,
      "outputs": [
        {
          "output_type": "display_data",
          "data": {
            "text/plain": [
              "<Figure size 640x480 with 1 Axes>"
            ],
            "image/png": "[encoded data removed]"
          },
          "metadata": {}
        }
      ]
    },
    {
      "cell_type": "code",
      "source": [],
      "metadata": {
        "id": "Z8Zos407jGTn"
      },
      "execution_count": null,
      "outputs": []
    }
  ]
}